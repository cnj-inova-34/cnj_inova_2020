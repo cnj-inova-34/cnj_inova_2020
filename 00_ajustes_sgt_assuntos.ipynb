{
 "cells": [
  {
   "cell_type": "markdown",
   "metadata": {},
   "source": [
    "## Problema\n",
    "'codigo', 'descricao' e 'cod_pai' são nomes genéricos que não auxiliam na codificação, ou qualificam adequadamente a informação a que se referencia. \n",
    "\n",
    "## Solução\n",
    "Utilizar nomes que contextualizem a tabela a que a coluna pertence.\n",
    "\n",
    "Exemplos:\n",
    "- cod -> cod_assunto\n",
    "- descricao -> descricao_classe\n",
    "- cod_pai -> cod_movimento_pai"
   ]
  },
  {
   "cell_type": "code",
   "execution_count": 11,
   "metadata": {},
   "outputs": [],
   "source": [
    "import pandas as pd \n",
    "\n",
    "data_path = 'dados/01_tabelas_auxiliares/'\n",
    "\n",
    "# Carrega tabebla base e renomeia os campos\n",
    "assunto = pd.read_csv(data_path + 'sgt_assuntos.csv', sep=';', usecols=['codigo', 'descricao', 'cod_pai'])\n",
    "assunto.rename(columns = {'codigo':'cod_assunto', 'descricao':'descricao_assunto', 'cod_pai':'cod_assunto_pai'}, inplace = True)\n",
    "# Garante que os campos de 'join' possuem mesmo tipo\n",
    "assunto['cod_assunto'] = assunto['cod_assunto'].astype(float)\n",
    "\n",
    "# Carrega tabela pai\n",
    "assunto_pai = assunto.loc[:,('cod_assunto', 'descricao_assunto')]\n",
    "assunto_pai.rename(columns = {'cod_assunto':'cod_assunto_pai', 'descricao_assunto':'descricao_assunto_pai'}, inplace = True)\n",
    "\n",
    "# Concatena tabelas e salva\n",
    "tabAssunto = pd.merge(assunto, assunto_pai, how='left', on='cod_assunto_pai')\n",
    "tabAssunto.to_csv(data_path + 'tabAssunto.csv', index=False)"
   ]
  },
  {
   "cell_type": "code",
   "execution_count": 12,
   "metadata": {},
   "outputs": [
    {
     "name": "stdout",
     "output_type": "stream",
     "text": [
      "(3685, 4)\n",
      "cod_assunto              float64\n",
      "descricao_assunto         object\n",
      "cod_assunto_pai          float64\n",
      "descricao_assunto_pai     object\n",
      "dtype: object\n",
      "      cod_assunto           descricao_assunto  cod_assunto_pai  \\\n",
      "0            14.0          DIREITO TRIBUTÁRIO              NaN   \n",
      "1           195.0      DIREITO PREVIDENCIÁRIO              NaN   \n",
      "2           287.0               DIREITO PENAL              NaN   \n",
      "3           864.0         DIREITO DO TRABALHO              NaN   \n",
      "4           899.0               DIREITO CIVIL              NaN   \n",
      "...           ...                         ...              ...   \n",
      "3680      12915.0           Sistema Prisional          12793.0   \n",
      "3681      12916.0  Plano Estadual de Educação          12802.0   \n",
      "3682      12917.0  Plano Nacional de Educação          12802.0   \n",
      "3683      12918.0      Processo de Elaboração          12917.0   \n",
      "3684      12919.0      Processo de Elaboração          12916.0   \n",
      "\n",
      "           descricao_assunto_pai  \n",
      "0                            NaN  \n",
      "1                            NaN  \n",
      "2                            NaN  \n",
      "3                            NaN  \n",
      "4                            NaN  \n",
      "...                          ...  \n",
      "3680             EDUCAÇÃO BÁSICA  \n",
      "3681             PLANOS DECENAIS  \n",
      "3682             PLANOS DECENAIS  \n",
      "3683  Plano Nacional de Educação  \n",
      "3684  Plano Estadual de Educação  \n",
      "\n",
      "[3685 rows x 4 columns]\n"
     ]
    }
   ],
   "source": [
    "print(tabAssunto.shape)\n",
    "print(tabAssunto.dtypes)\n",
    "print(tabAssunto)"
   ]
  },
  {
   "cell_type": "code",
   "execution_count": null,
   "metadata": {},
   "outputs": [],
   "source": []
  }
 ],
 "metadata": {
  "kernelspec": {
   "display_name": "Python 3",
   "language": "python",
   "name": "python3"
  },
  "language_info": {
   "codemirror_mode": {
    "name": "ipython",
    "version": 3
   },
   "file_extension": ".py",
   "mimetype": "text/x-python",
   "name": "python",
   "nbconvert_exporter": "python",
   "pygments_lexer": "ipython3",
   "version": "3.6.9"
  }
 },
 "nbformat": 4,
 "nbformat_minor": 4
}
