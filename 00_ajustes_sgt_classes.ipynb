{
 "cells": [
  {
   "cell_type": "markdown",
   "metadata": {},
   "source": [
    "## Problema\n",
    "'codigo', 'descricao' e 'cod_pai' são nomes genéricos que não auxiliam na codificação, ou qualificam adequadamente a informação a que se referencia. \n",
    "\n",
    "## Solução\n",
    "Utilizar nomes que contextualizem a tabela a que a coluna pertence.\n",
    "\n",
    "Exemplos:\n",
    "- cod -> cod_assunto\n",
    "- descricao -> descricao_classe\n",
    "- cod_pai -> cod_movimento_pai"
   ]
  },
  {
   "cell_type": "code",
   "execution_count": 4,
   "metadata": {},
   "outputs": [],
   "source": [
    "import pandas as pd \n",
    "\n",
    "data_path = 'dados/01_tabelas_auxiliares/'\n",
    "\n",
    "# Carrega tabebla base e renomeia os campos\n",
    "classe = pd.read_csv(data_path + 'sgt_classes.csv', sep=';', usecols=['codigo', 'descricao', 'cod_pai'])\n",
    "classe.rename(columns = {'codigo':'cod_classe', 'descricao':'descricao_classe', 'cod_pai':'cod_classe_pai'}, inplace = True)\n",
    "# Garante que os campos de 'join' possuem mesmo tipo\n",
    "classe['cod_classe'] = classe['cod_classe'].astype(float)\n",
    "\n",
    "# Carrega tabela pai\n",
    "classe_pai = classe.loc[:,('cod_classe', 'descricao_classe')]\n",
    "classe_pai.rename(columns = {'cod_classe':'cod_classe_pai', 'descricao_classe':'descricao_classe_pai'}, inplace = True)\n",
    "\n",
    "# Concatena tabelas e salva\n",
    "tabClasse = pd.merge(classe, classe_pai, how='left', on='cod_classe_pai')\n",
    "tabClasse.to_csv(data_path + 'tabClasse.csv', index=False)"
   ]
  },
  {
   "cell_type": "code",
   "execution_count": 5,
   "metadata": {},
   "outputs": [
    {
     "name": "stdout",
     "output_type": "stream",
     "text": [
      "(788, 4)\n",
      "cod_classe              float64\n",
      "descricao_classe         object\n",
      "cod_classe_pai          float64\n",
      "descricao_classe_pai     object\n",
      "dtype: object\n",
      "     cod_classe                      descricao_classe  cod_classe_pai  \\\n",
      "0           2.0          PROCESSO CÍVEL E DO TRABALHO             NaN   \n",
      "1           5.0          SUPERIOR TRIBUNAL DE JUSTIÇA             NaN   \n",
      "2           7.0              Procedimento Comum Cível          1107.0   \n",
      "3          22.0                  Procedimento Sumário          1107.0   \n",
      "4          26.0               Procedimentos Especiais          1107.0   \n",
      "..          ...                                   ...             ...   \n",
      "783     12787.0     Execução contra a Fazenda Pública         12786.0   \n",
      "784     12788.0     Execução contra a Fazenda Pública          1310.0   \n",
      "785     12789.0                      Execução de Pena          1310.0   \n",
      "786     12790.0                              Extensão          1310.0   \n",
      "787     12791.0  Incidente de Assunção de Competência          1310.0   \n",
      "\n",
      "             descricao_classe_pai  \n",
      "0                             NaN  \n",
      "1                             NaN  \n",
      "2    Procedimento de Conhecimento  \n",
      "3    Procedimento de Conhecimento  \n",
      "4    Procedimento de Conhecimento  \n",
      "..                            ...  \n",
      "783       Cumprimento de Sentença  \n",
      "784      SUPREMO TRIBUNAL FEDERAL  \n",
      "785      SUPREMO TRIBUNAL FEDERAL  \n",
      "786      SUPREMO TRIBUNAL FEDERAL  \n",
      "787      SUPREMO TRIBUNAL FEDERAL  \n",
      "\n",
      "[788 rows x 4 columns]\n"
     ]
    }
   ],
   "source": [
    "print(tabClasse.shape)\n",
    "print(tabClasse.dtypes)\n",
    "print(tabClasse)"
   ]
  },
  {
   "cell_type": "code",
   "execution_count": null,
   "metadata": {},
   "outputs": [],
   "source": []
  }
 ],
 "metadata": {
  "kernelspec": {
   "display_name": "Python 3",
   "language": "python",
   "name": "python3"
  },
  "language_info": {
   "codemirror_mode": {
    "name": "ipython",
    "version": 3
   },
   "file_extension": ".py",
   "mimetype": "text/x-python",
   "name": "python",
   "nbconvert_exporter": "python",
   "pygments_lexer": "ipython3",
   "version": "3.6.9"
  }
 },
 "nbformat": 4,
 "nbformat_minor": 4
}
