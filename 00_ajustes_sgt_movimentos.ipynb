{
 "cells": [
  {
   "cell_type": "markdown",
   "metadata": {},
   "source": [
    "## Problema\n",
    "'codigo', 'descricao' e 'cod_pai' são nomes genéricos que não auxiliam na codificação, ou qualificam adequadamente a informação a que se referencia. \n",
    "\n",
    "## Solução\n",
    "Utilizar nomes que contextualizem a tabela a que a coluna pertence.\n",
    "\n",
    "Exemplos:\n",
    "- cod -> cod_assunto\n",
    "- descricao -> descricao_classe\n",
    "- cod_pai -> cod_movimento_pai"
   ]
  },
  {
   "cell_type": "code",
   "execution_count": 6,
   "metadata": {},
   "outputs": [],
   "source": [
    "import pandas as pd \n",
    "\n",
    "data_path = 'dados/01_tabelas_auxiliares/'\n",
    "\n",
    "# Carrega tabebla base e renomeia os campos\n",
    "movimento = pd.read_csv(data_path + 'sgt_movimentos.csv', sep=';', usecols=['codigo', 'descricao', 'cod_pai'])\n",
    "movimento.rename(columns = {'codigo':'cod_movimento', 'descricao':'descricao_movimento', 'cod_pai':'cod_movimento_pai'}, inplace = True)\n",
    "# Garante que os campos de 'join' possuem mesmo tipo\n",
    "movimento['cod_movimento'] = movimento['cod_movimento'].astype(float)\n",
    "\n",
    "# Carrega tabela pai\n",
    "movimento_pai = movimento.loc[:,('cod_movimento', 'descricao_movimento')]\n",
    "movimento_pai.rename(columns = {'cod_movimento':'cod_movimento_pai', 'descricao_movimento':'descricao_movimento_pai'}, inplace = True)\n",
    "\n",
    "# Concatena tabelas e salva\n",
    "tabMovimento = pd.merge(movimento, movimento_pai, how='left', on='cod_movimento_pai')\n",
    "tabMovimento.to_csv(data_path + 'tabMovimento.csv', index=False)"
   ]
  },
  {
   "cell_type": "code",
   "execution_count": 7,
   "metadata": {},
   "outputs": [
    {
     "name": "stdout",
     "output_type": "stream",
     "text": [
      "(693, 4)\n",
      "cod_movimento              float64\n",
      "descricao_movimento         object\n",
      "cod_movimento_pai          float64\n",
      "descricao_movimento_pai     object\n",
      "dtype: object\n",
      "     cod_movimento                                descricao_movimento  \\\n",
      "0              1.0                                         Magistrado   \n",
      "1              3.0                                            Decisão   \n",
      "2              7.0                                          Conversão   \n",
      "3             11.0                                         Declaração   \n",
      "4             14.0                                       Serventuário   \n",
      "..             ...                                                ...   \n",
      "688        12766.0          Por Divergência de Entendimento com o STF   \n",
      "689        12767.0  Por Divergência de Entendimento com Tribunal S...   \n",
      "690        12768.0                              Manutenção de Acórdão   \n",
      "691        12769.0                         Desclassificação de Delito   \n",
      "692        12792.0       Procedência da Impugnação (Registro Cassado)   \n",
      "\n",
      "     cod_movimento_pai                descricao_movimento_pai  \n",
      "0                  NaN                                    NaN  \n",
      "1                  1.0                             Magistrado  \n",
      "2                  3.0                                Decisão  \n",
      "3                  3.0                                Decisão  \n",
      "4                  NaN                                    NaN  \n",
      "..                 ...                                    ...  \n",
      "688            12765.0        Envio para Juízo de Retratação   \n",
      "689            12765.0        Envio para Juízo de Retratação   \n",
      "690                3.0                                Decisão  \n",
      "691                3.0                                Decisão  \n",
      "692            12661.0  Impugnação do Registro de Candidatura  \n",
      "\n",
      "[693 rows x 4 columns]\n"
     ]
    }
   ],
   "source": [
    "print(tabMovimento.shape)\n",
    "print(tabMovimento.dtypes)\n",
    "print(tabMovimento)"
   ]
  },
  {
   "cell_type": "code",
   "execution_count": null,
   "metadata": {},
   "outputs": [],
   "source": []
  }
 ],
 "metadata": {
  "kernelspec": {
   "display_name": "Python 3",
   "language": "python",
   "name": "python3"
  },
  "language_info": {
   "codemirror_mode": {
    "name": "ipython",
    "version": 3
   },
   "file_extension": ".py",
   "mimetype": "text/x-python",
   "name": "python",
   "nbconvert_exporter": "python",
   "pygments_lexer": "ipython3",
   "version": "3.6.9"
  }
 },
 "nbformat": 4,
 "nbformat_minor": 4
}
